{
 "cells": [
  {
   "cell_type": "markdown",
   "metadata": {},
   "source": [
    "# NLP Adder\n",
    "[Request and Target](https://drive.google.com/file/d/1Fm9ou_xQoQ9zCEuplPe8SLUaJNvDoX4G/view)\n",
    "## One-hot encoding\n",
    "Convert an integer into a length-10-array, that only one element of array is `1` and others are `0`.<br>\n",
    "For example, number `4` might be convert into an array that the fourth element is `1` while others are `0`.\n",
    "* The project handles 3-bits addition that \n",
    "    * input format : 'pqr+xyz'\n",
    "    * output format : 'abcd'\n",
    "    * valid char : '0123456789+ ' (12 chars)\n",
    "* therefore, after encoding\n",
    "    * shape of input : (7,12)\n",
    "    * shape of output : (4,12)\n",
    "    \n",
    "## Build model\n",
    "Building process includes\n",
    "   * Declaration\n",
    "   * Add layers\n",
    "   * Compile\n",
    "   \n",
    "## Evaluation\n",
    "After training, select 1000 (or more) questions from testing set to evaluate correctness.\n",
    "### Origin\n",
    "* 3-digit\n",
    "* training epoch : 100\n",
    "* training size : 18000\n",
    "* validate size : 2000\n",
    "* execution time\n",
    "    * adder : 513 sec\n",
    "    * subtractor : 501 sec\n",
    "    * combine : 509 sec\n",
    "* Result\n",
    "![](img/origin.png)\n",
    "\n",
    "\n",
    "### Effect of training epoch\n",
    "* execution time\n",
    "    * 100 epoches : 500~600 sec\n",
    "    * 200 epoches : 1000~1100 sec\n",
    "    * 300 epoches : 1500~1600 sec<br>\n",
    "    **growing rate is approximately linear**\n",
    "* Result\n",
    "![](img/epoch.png)\n",
    "It shows that there's a little improvement from 100 to 200 epoches, but there's nearly no difference between 200 and 300 epoches. \n",
    "\n",
    "### Effect of digits\n",
    "* execution time\n",
    "    * 3-digit : about 530 sec\n",
    "    * 4-digit : about 620 sec\n",
    "    * 5-digit : 740~840 sec\n",
    "* Result\n",
    "![](img/digit.png)\n",
    "\n",
    "## Reference\n",
    "* [Keras documentation](https://keras.io/)\n",
    "* [Getting Started with Keras](https://www.youtube.com/watch?v=J6Ok8p463C4&t)\n",
    "* [TimeDistributed and RepeatVector](https://blog.csdn.net/ChaoFeiLi/article/details/89323078)\n",
    "* [Build LSTM model](https://medium.com/@daniel820710/%E5%88%A9%E7%94%A8keras%E5%BB%BA%E6%A7%8Blstm%E6%A8%A1%E5%9E%8B-%E4%BB%A5stock-prediction-%E7%82%BA%E4%BE%8B-1-67456e0a0b) "
   ]
  }
 ],
 "metadata": {
  "kernelspec": {
   "display_name": "Python 3",
   "language": "python",
   "name": "python3"
  },
  "language_info": {
   "codemirror_mode": {
    "name": "ipython",
    "version": 3
   },
   "file_extension": ".py",
   "mimetype": "text/x-python",
   "name": "python",
   "nbconvert_exporter": "python",
   "pygments_lexer": "ipython3",
   "version": "3.6.8"
  }
 },
 "nbformat": 4,
 "nbformat_minor": 2
}
