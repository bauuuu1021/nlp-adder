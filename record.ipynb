{
 "cells": [
  {
   "cell_type": "markdown",
   "metadata": {},
   "source": [
    "# NLP Adder\n",
    "## One-hot encoding\n",
    "Convert an integer into a length-10-array, that only one element of array is `1` and others are `0`.<br>\n",
    "For example, number `4` might be convert into an array that the fourth element is `1` while others are `0`.\n",
    "* The project handles 3-bits addition that \n",
    "    * input format : 'pqr+xyz'\n",
    "    * output format : 'abcd'\n",
    "    * valid char : '0123456789+ ' (12 chars)\n",
    "* therefore, after encoding\n",
    "    * shape of input : (7,12)\n",
    "    * shape of output : (4,12)\n",
    "    \n",
    "## Build model\n",
    "## Reference\n",
    "* [Getting Started with Keras](https://www.youtube.com/watch?v=J6Ok8p463C4&t)"
   ]
  },
  {
   "cell_type": "code",
   "execution_count": null,
   "metadata": {},
   "outputs": [],
   "source": []
  }
 ],
 "metadata": {
  "kernelspec": {
   "display_name": "Python 3",
   "language": "python",
   "name": "python3"
  },
  "language_info": {
   "codemirror_mode": {
    "name": "ipython",
    "version": 3
   },
   "file_extension": ".py",
   "mimetype": "text/x-python",
   "name": "python",
   "nbconvert_exporter": "python",
   "pygments_lexer": "ipython3",
   "version": "3.6.8"
  }
 },
 "nbformat": 4,
 "nbformat_minor": 2
}
